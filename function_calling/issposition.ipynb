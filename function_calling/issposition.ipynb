{
 "cells": [
  {
   "cell_type": "code",
   "execution_count": 9,
   "metadata": {},
   "outputs": [],
   "source": [
    "import requests\n",
    "from datetime import datetime"
   ]
  },
  {
   "cell_type": "code",
   "execution_count": 10,
   "metadata": {},
   "outputs": [],
   "source": [
    "def get_iss_position():\n",
    "    url = \"http://api.open-notify.org/iss-now.json\"\n",
    "    response = requests.get(url)\n",
    "    \n",
    "    if response.status_code == 200:\n",
    "        data = response.json()\n",
    "        latitude = data[\"iss_position\"][\"latitude\"]\n",
    "        longitude = data[\"iss_position\"][\"longitude\"]\n",
    "        timestamp = datetime.utcfromtimestamp(data[\"timestamp\"]).strftime('%Y-%m-%d %H:%M:%S UTC')\n",
    "        \n",
    "        return f\"Die ISS befindet sich gerade an der Position: Breitengrad {latitude}, Längengrad {longitude} (Zeitpunkt: {timestamp})\"\n",
    "    else:\n",
    "        return \"Fehler beim Abrufen der Positionsdaten für die ISS.\"\n"
   ]
  },
  {
   "cell_type": "code",
   "execution_count": 11,
   "metadata": {},
   "outputs": [
    {
     "name": "stdout",
     "output_type": "stream",
     "text": [
      "Die ISS befindet sich gerade an der Position: Breitengrad 16.7664, Längengrad 21.6521 (Zeitpunkt: 2025-02-01 08:01:07 UTC)\n"
     ]
    }
   ],
   "source": [
    "print(get_iss_position())"
   ]
  }
 ],
 "metadata": {
  "kernelspec": {
   "display_name": "chatbot",
   "language": "python",
   "name": "python3"
  },
  "language_info": {
   "codemirror_mode": {
    "name": "ipython",
    "version": 3
   },
   "file_extension": ".py",
   "mimetype": "text/x-python",
   "name": "python",
   "nbconvert_exporter": "python",
   "pygments_lexer": "ipython3",
   "version": "3.10.16"
  }
 },
 "nbformat": 4,
 "nbformat_minor": 2
}
